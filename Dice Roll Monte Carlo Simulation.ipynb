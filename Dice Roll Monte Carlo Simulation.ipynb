{
 "cells": [
  {
   "cell_type": "code",
   "execution_count": 1,
   "id": "214c54db",
   "metadata": {},
   "outputs": [],
   "source": [
    "import random"
   ]
  },
  {
   "cell_type": "code",
   "execution_count": 13,
   "id": "54a2ebc9",
   "metadata": {},
   "outputs": [
    {
     "name": "stdout",
     "output_type": "stream",
     "text": [
      "average round lenght is 4.797586\n"
     ]
    }
   ],
   "source": [
    "player1 = 2\n",
    "player2 = 2\n",
    "total_rounds = []\n",
    "tries = 1000000\n",
    "for i in range(tries):\n",
    "    r = 0\n",
    "    p1 = player1\n",
    "    p2 = player2\n",
    "    while p1 > 0 and p2 > 0:\n",
    "        r += 1\n",
    "        p1_roll = random.randint(1,6)\n",
    "        p2_roll = random.randint(1,6)\n",
    "        if p1_roll > p2_roll:\n",
    "            p1 -= 1\n",
    "            p2 += 1\n",
    "        elif p1_roll < p2_roll:\n",
    "            p2 -= 1\n",
    "            p1 += 1\n",
    "        else:\n",
    "            pass\n",
    "    total_rounds.append(r)\n",
    "average_rounds = sum(total_rounds)/tries\n",
    "print(f'average round lenght is {average_rounds}')"
   ]
  }
 ],
 "metadata": {
  "kernelspec": {
   "display_name": "Python 3 (ipykernel)",
   "language": "python",
   "name": "python3"
  },
  "language_info": {
   "codemirror_mode": {
    "name": "ipython",
    "version": 3
   },
   "file_extension": ".py",
   "mimetype": "text/x-python",
   "name": "python",
   "nbconvert_exporter": "python",
   "pygments_lexer": "ipython3",
   "version": "3.9.7"
  }
 },
 "nbformat": 4,
 "nbformat_minor": 5
}
